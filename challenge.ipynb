diberikan list sebagai berikut
alph